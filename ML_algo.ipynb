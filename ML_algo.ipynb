{
 "cells": [
  {
   "cell_type": "code",
   "execution_count": null,
   "metadata": {},
   "outputs": [],
   "source": [
    "import numpy as np\n",
    "import pandas as pd\n",
    "import seaborn as sb\n",
    "from sklearn.feature_extraction.text import TfidfVectorizer\n",
    "from sklearn.model_selection import train_test_split\n",
    "from sklearn.linear_model import LogisticRegression\n",
    "from sklearn.metrics import confusion_matrix, classification_report\n",
    "from sklearn.neighbors import KNeighborsClassifier\n",
    "from sklearn.tree import DecisionTreeClassifier\n",
    "from sklearn.ensemble import RandomForestClassifier\n",
    "from sklearn.svm import LinearSVC\n",
    "from sklearn.pipeline import Pipeline\n",
    "from sklearn.model_selection import train_test_split\n",
    "import matplotlib.pyplot as plt \n",
    "from sklearn.ensemble import RandomForestClassifier\n"
   ]
  },
  {
   "cell_type": "code",
   "execution_count": null,
   "metadata": {},
   "outputs": [],
   "source": [
    "df_tr_01 = pd.read_csv('training_data.csv')\n",
    "print(len(df_tr_01))\n",
    "print(df_tr_01.head())"
   ]
  },
  {
   "cell_type": "code",
   "execution_count": null,
   "metadata": {},
   "outputs": [],
   "source": [
    "df_unte_01 = pd.read_csv('unlabelled_test_data.csv')\n",
    "print(len(df_unte_01))\n",
    "print(df_unte_01.head())"
   ]
  },
  {
   "cell_type": "code",
   "execution_count": null,
   "metadata": {},
   "outputs": [],
   "source": [
    "print(df_tr_01.shape)\n",
    "print(df_tr_01.info())\n",
    "print('----------')\n",
    "df_tr_02 = df_tr_01.copy()\n",
    "for i in range(0, len(df_tr_02.difficulty)):\n",
    "    if df_tr_02.iloc[i,2] == \"A1\":\n",
    "        df_tr_02.iloc[i,2] = int(0)\n",
    "    elif df_tr_02.iloc[i,2] == \"A2\":\n",
    "        df_tr_02.iloc[i,2] =int(1)\n",
    "    elif df_tr_02.iloc[i,2] == \"B1\":\n",
    "        df_tr_02.iloc[i,2] = int(2)\n",
    "    elif df_tr_02.iloc[i,2] == \"B2\":\n",
    "        df_tr_02.iloc[i,2] = int(3)\n",
    "    elif df_tr_02.iloc[i,2] == \"C1\":\n",
    "        df_tr_02.iloc[i,2] = int(4)\n",
    "    elif df_tr_02.iloc[i,2] == \"C2\":\n",
    "        df_tr_02.iloc[i,2] = int(5)\n",
    "df_tr_02.difficulty.unique()\n",
    "\n",
    "df_tr_05_02 = df_tr_01.copy()\n",
    "for i in range(0, len(df_tr_02.difficulty)):\n",
    "    if df_tr_05_02.iloc[i,2] == \"A1\":\n",
    "        df_tr_05_02.iloc[i,2] = int(0)\n",
    "    elif df_tr_05_02.iloc[i,2] == \"A2\":\n",
    "        df_tr_05_02.iloc[i,2] =int(1)\n",
    "    elif df_tr_05_02.iloc[i,2] == \"B1\":\n",
    "        df_tr_05_02.iloc[i,2] = int(2)\n",
    "    elif df_tr_05_02.iloc[i,2] == \"B2\":\n",
    "        df_tr_05_02.iloc[i,2] = int(3)\n",
    "    elif df_tr_05_02.iloc[i,2] == \"C1\":\n",
    "        df_tr_05_02.iloc[i,2] = int(4)\n",
    "    elif df_tr_05_02.iloc[i,2] == \"C2\":\n",
    "        df_tr_05_02.iloc[i,2] = int(5)\n",
    "df_tr_05_02.difficulty.unique()\n"
   ]
  },
  {
   "cell_type": "code",
   "execution_count": null,
   "metadata": {},
   "outputs": [],
   "source": [
    "print(df_tr_02.head())"
   ]
  },
  {
   "cell_type": "code",
   "execution_count": null,
   "metadata": {},
   "outputs": [],
   "source": [
    "classes = df_tr_02.sort_values(by=['difficulty'], ascending=True).difficulty.unique()\n",
    "print(classes)\n",
    "print(len(df_tr_02))\n",
    "counts = []\n",
    "for i in classes:\n",
    "    count = len(df_tr_02[df_tr_02['difficulty'] == i])\n",
    "    counts.append(count)\n",
    "plt.bar(['A1', 'A2', 'B1', 'B2', 'C1', 'C2'], counts)\n",
    "plt.show()\n",
    "    "
   ]
  },
  {
   "cell_type": "code",
   "execution_count": null,
   "metadata": {},
   "outputs": [],
   "source": [
    "x = df_tr_02.sentence.values.tolist()\n",
    "y = df_tr_02.difficulty.values.tolist()\n",
    "\n",
    "x_train, x_test, y_train, y_test = train_test_split(x,y, test_size=0.2, random_state=32)"
   ]
  },
  {
   "cell_type": "code",
   "execution_count": null,
   "metadata": {},
   "outputs": [],
   "source": [
    "print(y)"
   ]
  },
  {
   "cell_type": "code",
   "execution_count": null,
   "metadata": {},
   "outputs": [],
   "source": [
    "#x_train.shape\n",
    "type(x_train)"
   ]
  },
  {
   "cell_type": "code",
   "execution_count": null,
   "metadata": {},
   "outputs": [],
   "source": [
    "vectorizer = TfidfVectorizer()\n",
    "vectorizer.fit(x_train)\n",
    "\n",
    "x_vect_train = vectorizer.transform(x_train)\n",
    "x_vect_test = vectorizer.transform(x_test)\n",
    "\n",
    "print(x_vect_train[0])"
   ]
  },
  {
   "cell_type": "code",
   "execution_count": null,
   "metadata": {},
   "outputs": [],
   "source": [
    "import re\n",
    "\n",
    "d = \",.!?/&-:;@'...\"\n",
    "\"[\"+\"\\\\\".join(d)+\"]\"\n",
    "\n",
    "s = x_train[0]\n",
    "s = ' '.join(w for w in re.split(r\"\\W\", s) if w)\n",
    "\n",
    "for i in s.split():\n",
    "    if len(i)> 1: print(i, vectorizer.vocabulary_[i.lower()])"
   ]
  },
  {
   "cell_type": "markdown",
   "metadata": {},
   "source": [
    "# Logistic regression"
   ]
  },
  {
   "cell_type": "code",
   "execution_count": null,
   "metadata": {},
   "outputs": [],
   "source": [
    "classifier = LogisticRegression(max_iter=1000)\n",
    "classifier.fit(x_vect_train, y_train)"
   ]
  },
  {
   "cell_type": "code",
   "execution_count": null,
   "metadata": {},
   "outputs": [],
   "source": [
    "score = classifier.score(x_vect_test, y_test)\n",
    "print('Accuracy', score)"
   ]
  },
  {
   "cell_type": "code",
   "execution_count": null,
   "metadata": {},
   "outputs": [],
   "source": [
    "y_pred = classifier.predict(x_vect_test)\n",
    "\n",
    "difficulty_levels = {0: 'A1', 1: 'A2', 2: 'B1', 3: 'B2', 4: 'C1', 5: 'C2'}\n",
    "predicted_difficulties = [difficulty_levels[label] for label in y_pred]\n",
    "original_difficulties = [difficulty_levels[label] for label in y_test]\n",
    "\n",
    "cm = confusion_matrix(original_difficulties, predicted_difficulties, labels=[\"A1\",\"A2\",\"B1\",\"B2\",\"C1\",\"C2\"])\n",
    "df_cm = pd.DataFrame(cm, index=[\"A1\",\"A2\",\"B1\",\"B2\",\"C1\",\"C2\"], columns= [\"A1\",\"A2\",\"B1\",\"B2\",\"C1\",\"C2\"])\n",
    "df_cm"
   ]
  },
  {
   "cell_type": "code",
   "execution_count": null,
   "metadata": {},
   "outputs": [],
   "source": [
    "sb.heatmap(cm.T, square=True, annot=True, fmt='d', cbar=False, xticklabels=[\"A1\",\"A2\",\"B1\",\"B2\",\"C1\",\"C2\"], yticklabels=[\"A1\",\"A2\",\"B1\",\"B2\",\"C1\",\"C2\"])\n",
    "\n",
    "plt.xlabel('true label')\n",
    "plt.ylabel('predicted label')"
   ]
  },
  {
   "cell_type": "markdown",
   "metadata": {},
   "source": [
    "# KNN"
   ]
  },
  {
   "cell_type": "code",
   "execution_count": null,
   "metadata": {},
   "outputs": [],
   "source": [
    "from sklearn.preprocessing import StandardScaler\n",
    "\n",
    "scaler = StandardScaler(with_mean=False)\n",
    "x_vect_train_scaled = scaler.fit_transform(x_vect_train)\n",
    "x_vect_test_scaled = scaler.transform(x_vect_test) "
   ]
  },
  {
   "cell_type": "code",
   "execution_count": null,
   "metadata": {},
   "outputs": [],
   "source": [
    "classifier_knn = KNeighborsClassifier(n_neighbors=2, weights='distance')\n",
    "classifier_knn.fit(x_vect_train, y_train)"
   ]
  },
  {
   "cell_type": "code",
   "execution_count": null,
   "metadata": {},
   "outputs": [],
   "source": [
    "score_knn = classifier_knn.score(x_vect_test_scaled, y_test)\n",
    "print('Accuracy', score_knn)"
   ]
  },
  {
   "cell_type": "code",
   "execution_count": null,
   "metadata": {},
   "outputs": [],
   "source": [
    "y_pred = classifier_knn.predict(x_vect_test_scaled)\n",
    "\n",
    "difficulty_levels = {0: 'A1', 1: 'A2', 2: 'B1', 3: 'B2', 4: 'C1', 5: 'C2'}\n",
    "predicted_difficulties = [difficulty_levels[label] for label in y_pred]\n",
    "original_difficulties = [difficulty_levels[label] for label in y_test]\n",
    "\n",
    "cm = confusion_matrix(original_difficulties, predicted_difficulties, labels=[\"A1\",\"A2\",\"B1\",\"B2\",\"C1\",\"C2\"])\n",
    "df_cm = pd.DataFrame(cm, index=[\"A1\",\"A2\",\"B1\",\"B2\",\"C1\",\"C2\"], columns= [\"A1\",\"A2\",\"B1\",\"B2\",\"C1\",\"C2\"])\n",
    "df_cm"
   ]
  },
  {
   "cell_type": "code",
   "execution_count": null,
   "metadata": {},
   "outputs": [],
   "source": [
    "sb.heatmap(cm.T, square=True, annot=True, fmt='d', cbar=False, xticklabels=[\"A1\",\"A2\",\"B1\",\"B2\",\"C1\",\"C2\"], yticklabels=[\"A1\",\"A2\",\"B1\",\"B2\",\"C1\",\"C2\"])\n",
    "\n",
    "plt.xlabel('true label')\n",
    "plt.ylabel('predicted label')"
   ]
  },
  {
   "cell_type": "markdown",
   "metadata": {},
   "source": [
    "# Decision Tree"
   ]
  },
  {
   "cell_type": "code",
   "execution_count": null,
   "metadata": {},
   "outputs": [],
   "source": [
    "classifier_tree = DecisionTreeClassifier(random_state=0)\n",
    "classifier_tree.fit(x_vect_train, y_train)"
   ]
  },
  {
   "cell_type": "code",
   "execution_count": null,
   "metadata": {},
   "outputs": [],
   "source": [
    "score_tree = classifier_tree.score(x_vect_test, y_test)\n",
    "print('Accuracy', score_tree)"
   ]
  },
  {
   "cell_type": "code",
   "execution_count": null,
   "metadata": {},
   "outputs": [],
   "source": [
    "y_pred = classifier_tree.predict(x_vect_test)\n",
    "difficulty_levels = {0: 'A1', 1: 'A2', 2: 'B1', 3: 'B2', 4: 'C1', 5: 'C2'}\n",
    "predicted_difficulties = [difficulty_levels[label] for label in y_pred]\n",
    "original_difficulties = [difficulty_levels[label] for label in y_test]\n",
    "\n",
    "cm = confusion_matrix(original_difficulties, predicted_difficulties, labels=[\"A1\",\"A2\",\"B1\",\"B2\",\"C1\",\"C2\"])\n",
    "df_cm = pd.DataFrame(cm, index=[\"A1\",\"A2\",\"B1\",\"B2\",\"C1\",\"C2\"], columns= [\"A1\",\"A2\",\"B1\",\"B2\",\"C1\",\"C2\"])\n",
    "df_cm"
   ]
  },
  {
   "cell_type": "code",
   "execution_count": null,
   "metadata": {},
   "outputs": [],
   "source": [
    "sb.heatmap(cm.T, square=True, annot=True, fmt='d', cbar=False, xticklabels=[\"A1\",\"A2\",\"B1\",\"B2\",\"C1\",\"C2\"], yticklabels=[\"A1\",\"A2\",\"B1\",\"B2\",\"C1\",\"C2\"])\n",
    "\n",
    "plt.xlabel('true label')\n",
    "plt.ylabel('predicted label')"
   ]
  },
  {
   "cell_type": "markdown",
   "metadata": {},
   "source": [
    "# random forest"
   ]
  },
  {
   "cell_type": "code",
   "execution_count": null,
   "metadata": {},
   "outputs": [],
   "source": [
    "classifier_forest = RandomForestClassifier(random_state=0)\n",
    "classifier_forest.fit(x_vect_train, y_train)"
   ]
  },
  {
   "cell_type": "code",
   "execution_count": null,
   "metadata": {},
   "outputs": [],
   "source": [
    "score_forest = classifier_forest.score(x_vect_test, y_test)\n",
    "print('Accuracy', score_forest)"
   ]
  },
  {
   "cell_type": "code",
   "execution_count": null,
   "metadata": {},
   "outputs": [],
   "source": [
    "y_pred = classifier_forest.predict(x_vect_test)\n",
    "\n",
    "difficulty_levels = {0: 'A1', 1: 'A2', 2: 'B1', 3: 'B2', 4: 'C1', 5: 'C2'}\n",
    "predicted_difficulties = [difficulty_levels[label] for label in y_pred]\n",
    "original_difficulties = [difficulty_levels[label] for label in y_test]\n",
    "\n",
    "cm = confusion_matrix(original_difficulties, predicted_difficulties, labels=[\"A1\",\"A2\",\"B1\",\"B2\",\"C1\",\"C2\"])\n",
    "df_cm = pd.DataFrame(cm, index=[\"A1\",\"A2\",\"B1\",\"B2\",\"C1\",\"C2\"], columns= [\"A1\",\"A2\",\"B1\",\"B2\",\"C1\",\"C2\"])\n",
    "df_cm"
   ]
  },
  {
   "cell_type": "code",
   "execution_count": null,
   "metadata": {},
   "outputs": [],
   "source": [
    "sb.heatmap(cm.T, square=True, annot=True, fmt='d', cbar=False, xticklabels=[\"A1\",\"A2\",\"B1\",\"B2\",\"C1\",\"C2\"], yticklabels=[\"A1\",\"A2\",\"B1\",\"B2\",\"C1\",\"C2\"])\n",
    "\n",
    "plt.xlabel('true label')\n",
    "plt.ylabel('predicted label')"
   ]
  }
 ],
 "metadata": {
  "kernelspec": {
   "display_name": ".venv",
   "language": "python",
   "name": "python3"
  },
  "language_info": {
   "codemirror_mode": {
    "name": "ipython",
    "version": 3
   },
   "file_extension": ".py",
   "mimetype": "text/x-python",
   "name": "python",
   "nbconvert_exporter": "python",
   "pygments_lexer": "ipython3",
   "version": "3.10.9"
  }
 },
 "nbformat": 4,
 "nbformat_minor": 2
}
